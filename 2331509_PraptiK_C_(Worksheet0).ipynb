{
  "nbformat": 4,
  "nbformat_minor": 0,
  "metadata": {
    "colab": {
      "provenance": []
    },
    "kernelspec": {
      "name": "python3",
      "display_name": "Python 3"
    },
    "language_info": {
      "name": "python"
    }
  },
  "cells": [
    {
      "cell_type": "markdown",
      "source": [
        "4.1 Exercise on Functions:\n",
        "Task - 1"
      ],
      "metadata": {
        "id": "DqeH2cnY0w2z"
      }
    },
    {
      "cell_type": "code",
      "source": [
        "from google.colab import drive\n",
        "drive.mount('/content/drive')"
      ],
      "metadata": {
        "colab": {
          "base_uri": "https://localhost:8080/"
        },
        "id": "bBp_jUpBjTii",
        "outputId": "5fecf95d-19e9-407b-8152-a54cd63c7ce3"
      },
      "execution_count": 1,
      "outputs": [
        {
          "output_type": "stream",
          "name": "stdout",
          "text": [
            "Mounted at /content/drive\n"
          ]
        }
      ]
    },
    {
      "cell_type": "code",
      "execution_count": null,
      "metadata": {
        "colab": {
          "base_uri": "https://localhost:8080/"
        },
        "id": "iNoPNAl4zt8Y",
        "outputId": "cdc96d85-4ad2-4c6e-d61e-16dcc63b9e34"
      },
      "outputs": [
        {
          "output_type": "stream",
          "name": "stdout",
          "text": [
            "Choose conversion type:\n",
            "1. Length (m <-> ft)\n",
            "2. Weight (kg <-> lbs)\n",
            "3. Volume (L <-> gal)\n",
            "Enter choice (1-3): 2\n",
            "1. Kilograms to Pounds\n",
            "2. Pounds to Kilograms\n",
            "Enter choice (1 or 2): 1\n",
            "Enter value: 10\n",
            "10.0 kg = 22.05 lbs\n"
          ]
        }
      ],
      "source": [
        "def convert_units():\n",
        "    \"\"\"\n",
        "    Converts between different units: length, weight, and volume.\n",
        "    \"\"\"\n",
        "    try:\n",
        "        print(\"Choose conversion type:\")\n",
        "        print(\"1. Length (m <-> ft)\")\n",
        "        print(\"2. Weight (kg <-> lbs)\")\n",
        "        print(\"3. Volume (L <-> gal)\")\n",
        "\n",
        "        choice = int(input(\"Enter choice (1-3): \"))\n",
        "\n",
        "        if choice == 1:\n",
        "            print(\"1. Meters to Feet\\n2. Feet to Meters\")\n",
        "            sub_choice = int(input(\"Enter choice (1 or 2): \"))\n",
        "            value = float(input(\"Enter value: \"))\n",
        "\n",
        "            if sub_choice == 1:\n",
        "                print(f\"{value} meters = {value * 3.28084:.2f} feet\")\n",
        "            elif sub_choice == 2:\n",
        "                print(f\"{value} feet = {value / 3.28084:.2f} meters\")\n",
        "            else:\n",
        "                print(\"Invalid choice.\")\n",
        "\n",
        "        elif choice == 2:\n",
        "            print(\"1. Kilograms to Pounds\\n2. Pounds to Kilograms\")\n",
        "            sub_choice = int(input(\"Enter choice (1 or 2): \"))\n",
        "            value = float(input(\"Enter value: \"))\n",
        "\n",
        "            if sub_choice == 1:\n",
        "                print(f\"{value} kg = {value * 2.20462:.2f} lbs\")\n",
        "            elif sub_choice == 2:\n",
        "                print(f\"{value} lbs = {value / 2.20462:.2f} kg\")\n",
        "            else:\n",
        "                print(\"Invalid choice.\")\n",
        "\n",
        "        elif choice == 3:\n",
        "            print(\"1. Liters to Gallons\\n2. Gallons to Liters\")\n",
        "            sub_choice = int(input(\"Enter choice (1 or 2): \"))\n",
        "            value = float(input(\"Enter value: \"))\n",
        "\n",
        "            if sub_choice == 1:\n",
        "                print(f\"{value} L = {value * 0.264172:.2f} gal\")\n",
        "            elif sub_choice == 2:\n",
        "                print(f\"{value} gal = {value / 0.264172:.2f} L\")\n",
        "            else:\n",
        "                print(\"Invalid choice.\")\n",
        "\n",
        "        else:\n",
        "            print(\"Invalid choice.\")\n",
        "\n",
        "    except ValueError:\n",
        "        print(\"Invalid input.\")\n",
        "\n",
        "convert_units()"
      ]
    },
    {
      "cell_type": "markdown",
      "source": [
        "Task - 2:"
      ],
      "metadata": {
        "id": "ghrDP4Fb1Cot"
      }
    },
    {
      "cell_type": "code",
      "source": [
        "def calculate_sum(numbers):\n",
        "    return sum(numbers)\n",
        "\n",
        "def calculate_average(numbers):\n",
        "    return sum(numbers) / len(numbers)\n",
        "\n",
        "def find_maximum(numbers):\n",
        "    return max(numbers)\n",
        "\n",
        "def find_minimum(numbers):\n",
        "    return min(numbers)\n",
        "\n",
        "def main():\n",
        "    try:\n",
        "        print(\"\\nSelect an operation:\")\n",
        "        print(\"1. Sum\\n2. Average\\n3. Maximum\\n4. Minimum\")\n",
        "\n",
        "        choice = int(input(\"Enter choice (1-4): \"))\n",
        "        numbers = list(map(float, input(\"Enter numbers separated by spaces: \").split()))\n",
        "\n",
        "        if not numbers:\n",
        "            print(\"List cannot be empty.\")\n",
        "            return\n",
        "\n",
        "        if choice == 1:\n",
        "            print(\"Sum:\", calculate_sum(numbers))\n",
        "        elif choice == 2:\n",
        "            print(\"Average:\", calculate_average(numbers))\n",
        "        elif choice == 3:\n",
        "            print(\"Maximum:\", find_maximum(numbers))\n",
        "        elif choice == 4:\n",
        "            print(\"Minimum:\", find_minimum(numbers))\n",
        "        else:\n",
        "            print(\"Invalid choice.\")\n",
        "\n",
        "    except ValueError:\n",
        "        print(\"Invalid input.\")\n",
        "\n",
        "main()"
      ],
      "metadata": {
        "colab": {
          "base_uri": "https://localhost:8080/"
        },
        "id": "-289F-tv1JGX",
        "outputId": "15e39aa7-4792-41ff-d699-41674ab0c175"
      },
      "execution_count": null,
      "outputs": [
        {
          "output_type": "stream",
          "name": "stdout",
          "text": [
            "\n",
            "Select an operation:\n",
            "1. Sum\n",
            "2. Average\n",
            "3. Maximum\n",
            "4. Minimum\n",
            "Enter choice (1-4): 4\n",
            "Enter numbers separated by spaces: 1 3 5 6 7 8\n",
            "Minimum: 1.0\n"
          ]
        }
      ]
    },
    {
      "cell_type": "markdown",
      "source": [
        "4.2 Exercise on List Manipulation:\n",
        "1. Extract Every Other Element:"
      ],
      "metadata": {
        "id": "QjJijVrV1StT"
      }
    },
    {
      "cell_type": "code",
      "source": [
        "def extract_every_other(lst):\n",
        "    return lst[::2]\n",
        "\n",
        "\n",
        "print(extract_every_other([9, 8, 10, 5, 6]))"
      ],
      "metadata": {
        "colab": {
          "base_uri": "https://localhost:8080/"
        },
        "id": "NDwq_HAY1X8j",
        "outputId": "c410ef25-9c1e-4a6b-8760-9065eb268795"
      },
      "execution_count": null,
      "outputs": [
        {
          "output_type": "stream",
          "name": "stdout",
          "text": [
            "[9, 10, 6]\n"
          ]
        }
      ]
    },
    {
      "cell_type": "markdown",
      "source": [
        "2. Slice a Sublist:"
      ],
      "metadata": {
        "id": "Omvl4tUU2GGu"
      }
    },
    {
      "cell_type": "code",
      "source": [
        "def get_sublist(lst, start, end):\n",
        "    return lst[start:end+1]\n",
        "\n",
        "\n",
        "print(get_sublist([3, 4, 6, 7, 8, 9], 2, 4))"
      ],
      "metadata": {
        "colab": {
          "base_uri": "https://localhost:8080/"
        },
        "id": "szcQhLMj2Zl_",
        "outputId": "538d776b-1e82-4bb5-de71-259a26f9e14a"
      },
      "execution_count": null,
      "outputs": [
        {
          "output_type": "stream",
          "name": "stdout",
          "text": [
            "[6, 7, 8]\n"
          ]
        }
      ]
    },
    {
      "cell_type": "markdown",
      "source": [
        "Task 3: Reverse a List Using Slicing"
      ],
      "metadata": {
        "id": "vlYPs3st2qz3"
      }
    },
    {
      "cell_type": "code",
      "source": [
        "def reverse_list(lst):\n",
        "    return lst[::-1]\n",
        "\n",
        "\n",
        "print(reverse_list([6, 8, 4, 7, 10]))"
      ],
      "metadata": {
        "colab": {
          "base_uri": "https://localhost:8080/"
        },
        "id": "wowM18a-2rpK",
        "outputId": "f336d833-2cbc-4719-b5f0-1e4f3e3c1fc5"
      },
      "execution_count": null,
      "outputs": [
        {
          "output_type": "stream",
          "name": "stdout",
          "text": [
            "[10, 7, 4, 8, 6]\n"
          ]
        }
      ]
    },
    {
      "cell_type": "markdown",
      "source": [
        "Task 4: Remove First and Last Elements"
      ],
      "metadata": {
        "id": "hOOoTdHi24IT"
      }
    },
    {
      "cell_type": "code",
      "source": [
        "def remove_first_last(lst):\n",
        "    return lst[1:-1] if len(lst) > 2 else []\n",
        "\n",
        "# Example\n",
        "print(remove_first_last([6, 5, 10, 4, 7]))"
      ],
      "metadata": {
        "colab": {
          "base_uri": "https://localhost:8080/"
        },
        "id": "peR8jKYO2_W8",
        "outputId": "008a3329-22a7-4df8-c70f-af6433bbeb9e"
      },
      "execution_count": null,
      "outputs": [
        {
          "output_type": "stream",
          "name": "stdout",
          "text": [
            "[5, 10, 4]\n"
          ]
        }
      ]
    },
    {
      "cell_type": "markdown",
      "source": [
        "5. Get the First n Elements:"
      ],
      "metadata": {
        "id": "DFZhF06o30bP"
      }
    },
    {
      "cell_type": "code",
      "source": [
        "def get_first_n(lst, n):\n",
        "    return lst[:n]\n",
        "\n",
        "# Example\n",
        "print(get_first_n([1, 2, 3, 4, 5], 3))"
      ],
      "metadata": {
        "colab": {
          "base_uri": "https://localhost:8080/"
        },
        "id": "DJdQCNOY4ZTB",
        "outputId": "8e34dc7e-cf44-4317-9382-8545f50815bd"
      },
      "execution_count": null,
      "outputs": [
        {
          "output_type": "stream",
          "name": "stdout",
          "text": [
            "[1, 2, 3]\n"
          ]
        }
      ]
    },
    {
      "cell_type": "markdown",
      "source": [
        "6. Extract Elements from the End:"
      ],
      "metadata": {
        "id": "daJPyRRk4hgD"
      }
    },
    {
      "cell_type": "code",
      "source": [
        "def get_last_n(lst, n):\n",
        "    return lst[-n:]\n",
        "\n",
        "print(get_last_n([8, 9, 10, 4, 5], 2))"
      ],
      "metadata": {
        "colab": {
          "base_uri": "https://localhost:8080/"
        },
        "id": "vO1pFa774piS",
        "outputId": "9e2bab54-f483-40c6-802f-d4ddcea5594d"
      },
      "execution_count": null,
      "outputs": [
        {
          "output_type": "stream",
          "name": "stdout",
          "text": [
            "[4, 5]\n"
          ]
        }
      ]
    },
    {
      "cell_type": "markdown",
      "source": [
        "7. Extract Elements in Reverse Order:"
      ],
      "metadata": {
        "id": "QtKkdAEF43Rn"
      }
    },
    {
      "cell_type": "code",
      "source": [
        "def reverse_skip(lst):\n",
        "    return lst[-2::-2]\n",
        "\n",
        "# Example\n",
        "print(reverse_skip([8, 11, 12, 34, 45, 43]))"
      ],
      "metadata": {
        "colab": {
          "base_uri": "https://localhost:8080/"
        },
        "id": "WgDoW5KR44Dv",
        "outputId": "6a3cea48-2ee7-4847-fd45-be349a3fe7df"
      },
      "execution_count": null,
      "outputs": [
        {
          "output_type": "stream",
          "name": "stdout",
          "text": [
            "[45, 12, 8]\n"
          ]
        }
      ]
    },
    {
      "cell_type": "markdown",
      "source": [
        "4.3 Exercise on Nested List:\n",
        "1. Flatten a Nested List:"
      ],
      "metadata": {
        "id": "na_IK9HD5FZX"
      }
    },
    {
      "cell_type": "code",
      "source": [
        "def flatten(lst):\n",
        "    flat_list = []\n",
        "    for sublist in lst:\n",
        "        if isinstance(sublist, list):\n",
        "            flat_list.extend(flatten(sublist))\n",
        "        else:\n",
        "            flat_list.append(sublist)\n",
        "    return flat_list\n",
        "\n",
        "\n",
        "print(flatten([[11, 8], [6, 9], [5]]))"
      ],
      "metadata": {
        "colab": {
          "base_uri": "https://localhost:8080/"
        },
        "id": "1lBYvXyK5GSA",
        "outputId": "fc1a9b2c-186f-4211-8032-3b8fdaa8f79c"
      },
      "execution_count": null,
      "outputs": [
        {
          "output_type": "stream",
          "name": "stdout",
          "text": [
            "[11, 8, 6, 9, 5]\n"
          ]
        }
      ]
    },
    {
      "cell_type": "markdown",
      "source": [
        "2. Accessing Nested List Elements:"
      ],
      "metadata": {
        "id": "EuZfy0-GBJPg"
      }
    },
    {
      "cell_type": "code",
      "source": [
        "def access_nested_element(lst, indices):\n",
        "    \"\"\"Retrieves an element from a nested list given a list of indices.\"\"\"\n",
        "    for index in indices:\n",
        "        lst = lst[index]  # Navigate through the nested structure\n",
        "    return lst\n",
        "\n",
        "\n",
        "nested_list = [[1, 2, 3], [4, 5, 6], [7, 8, 9]]\n",
        "print(access_nested_element(nested_list, [1, 2]))"
      ],
      "metadata": {
        "colab": {
          "base_uri": "https://localhost:8080/"
        },
        "id": "MWtS4I2UBOQH",
        "outputId": "dbf322b9-2982-4978-e79e-5547fc170615"
      },
      "execution_count": null,
      "outputs": [
        {
          "output_type": "stream",
          "name": "stdout",
          "text": [
            "6\n"
          ]
        }
      ]
    },
    {
      "cell_type": "markdown",
      "source": [
        "3. Sum of All Elements in a Nested List:"
      ],
      "metadata": {
        "id": "tmS2G3f4BTL3"
      }
    },
    {
      "cell_type": "code",
      "source": [
        "def sum_nested(lst):\n",
        "    \"\"\"Calculates the sum of all elements in a nested list.\"\"\"\n",
        "    return sum(sum_nested(sublist) if isinstance(sublist, list) else sublist for sublist in lst)\n",
        "\n",
        "\n",
        "print(sum_nested([[1, 21], [9, [4, 6]], 7]))"
      ],
      "metadata": {
        "id": "UN1Jgk5UBZ-5",
        "colab": {
          "base_uri": "https://localhost:8080/"
        },
        "outputId": "e80defb0-5c99-446f-f945-fd129dc48ba6"
      },
      "execution_count": null,
      "outputs": [
        {
          "output_type": "stream",
          "name": "stdout",
          "text": [
            "48\n"
          ]
        }
      ]
    },
    {
      "cell_type": "markdown",
      "source": [
        "4. Remove Specific Element from a Nested List:"
      ],
      "metadata": {
        "id": "xuIz9OAu_qNj"
      }
    },
    {
      "cell_type": "code",
      "source": [
        "def remove_element(lst, elem):\n",
        "    \"\"\"Removes all occurrences of a specific element from a nested list.\"\"\"\n",
        "    return [remove_element(sublist, elem) if isinstance(sublist, list) else sublist\n",
        "            for sublist in lst if sublist != elem]\n",
        "\n",
        "print(remove_element([[1, 2], [3, 2], [4, 5]], 2))"
      ],
      "metadata": {
        "colab": {
          "base_uri": "https://localhost:8080/"
        },
        "id": "bCe8a8SZ_v12",
        "outputId": "2e6ae5b1-7ce0-41fd-dcf3-b08a437edb50"
      },
      "execution_count": null,
      "outputs": [
        {
          "output_type": "stream",
          "name": "stdout",
          "text": [
            "[[1], [3], [4, 5]]\n"
          ]
        }
      ]
    },
    {
      "cell_type": "markdown",
      "source": [
        "5. Find the Maximum Element in a Nested List:"
      ],
      "metadata": {
        "id": "5l1p95g6_zIH"
      }
    },
    {
      "cell_type": "code",
      "source": [
        "def find_max(lst):\n",
        "    \"\"\"Finds the maximum value in a nested list.\"\"\"\n",
        "    return max(find_max(sublist) if isinstance(sublist, list) else sublist for sublist in lst)\n",
        "\n",
        "print(find_max([[1, 11], [9, [7, 5]], 6]))"
      ],
      "metadata": {
        "colab": {
          "base_uri": "https://localhost:8080/"
        },
        "id": "HmM_McuU_2ru",
        "outputId": "021e0daa-6bb7-443f-ad89-e1d3019e5ed5"
      },
      "execution_count": null,
      "outputs": [
        {
          "output_type": "stream",
          "name": "stdout",
          "text": [
            "11\n"
          ]
        }
      ]
    },
    {
      "cell_type": "markdown",
      "source": [
        "6. Count Occurrences of an Element in a Nested List:"
      ],
      "metadata": {
        "id": "f7sf-tXEAA56"
      }
    },
    {
      "cell_type": "code",
      "source": [
        "def count_occurrences(lst, elem):\n",
        "    \"\"\"Counts the occurrences of a specific element in a nested list.\"\"\"\n",
        "    return sum(count_occurrences(sublist, elem) if isinstance(sublist, list) else (sublist == elem)\n",
        "               for sublist in lst)\n",
        "\n",
        "\n",
        "print(count_occurrences([[1, 2], [2, 3], [2, 4]], 2))"
      ],
      "metadata": {
        "colab": {
          "base_uri": "https://localhost:8080/"
        },
        "id": "2QDQKdoaAEE2",
        "outputId": "410a2e58-429f-49a9-e2a9-1b0ca069096c"
      },
      "execution_count": null,
      "outputs": [
        {
          "output_type": "stream",
          "name": "stdout",
          "text": [
            "3\n"
          ]
        }
      ]
    },
    {
      "cell_type": "markdown",
      "source": [
        "7. Flatten a List of Lists of Lists:"
      ],
      "metadata": {
        "id": "PNr3Ur2QAKrS"
      }
    },
    {
      "cell_type": "code",
      "source": [
        "def deep_flatten(lst):\n",
        "    \"\"\"Flattens a deeply nested list into a single list, regardless of depth.\"\"\"\n",
        "    flat_list = []\n",
        "    for sublist in lst:\n",
        "        if isinstance(sublist, list):\n",
        "            flat_list.extend(deep_flatten(sublist))  # Recursively flatten all levels\n",
        "        else:\n",
        "            flat_list.append(sublist)\n",
        "    return flat_list\n",
        "\n",
        "print(deep_flatten([[[1, 2], [3, 4]], [[5, 6], [7, 8]]]))"
      ],
      "metadata": {
        "colab": {
          "base_uri": "https://localhost:8080/"
        },
        "id": "yMwtAn29AOcP",
        "outputId": "fefdee4f-2c31-40b4-968b-a33ec9b85b47"
      },
      "execution_count": null,
      "outputs": [
        {
          "output_type": "stream",
          "name": "stdout",
          "text": [
            "[1, 2, 3, 4, 5, 6, 7, 8]\n"
          ]
        }
      ]
    },
    {
      "cell_type": "markdown",
      "source": [
        "8. Nested List Average:"
      ],
      "metadata": {
        "id": "aSvfYqRqA8Ee"
      }
    },
    {
      "cell_type": "code",
      "source": [
        "def average_nested(lst):\n",
        "    \"\"\"Calculates the average of all elements in a nested list.\"\"\"\n",
        "    flat_list = flatten(lst)  # Reusing the flatten function\n",
        "    return sum(flat_list) / len(flat_list) if flat_list else 0  # Avoid division by zero\n",
        "\n",
        "print(average_nested([[1, 3], [3, 6], [10, 6]]))"
      ],
      "metadata": {
        "colab": {
          "base_uri": "https://localhost:8080/"
        },
        "id": "faVnJM9wBe40",
        "outputId": "a45cab52-a1fb-4e5d-9b19-e36431f59329"
      },
      "execution_count": null,
      "outputs": [
        {
          "output_type": "stream",
          "name": "stdout",
          "text": [
            "4.833333333333333\n"
          ]
        }
      ]
    },
    {
      "cell_type": "markdown",
      "source": [
        "10 To - Do - NumPy\n",
        "10.1 Basic Vector and Matrix Operation with Numpy."
      ],
      "metadata": {
        "id": "1SYcGMOQCgwd"
      }
    },
    {
      "cell_type": "markdown",
      "source": [
        "Problem - 1: Array Creation:"
      ],
      "metadata": {
        "id": "QZvh5NvACk7m"
      }
    },
    {
      "cell_type": "code",
      "source": [
        "import numpy as np"
      ],
      "metadata": {
        "id": "_SQmSc9TCnyf"
      },
      "execution_count": null,
      "outputs": []
    },
    {
      "cell_type": "code",
      "source": [
        "import numpy as np\n",
        "\n",
        "#Initialize an empty array with size 2x2\n",
        "empty_array = np.empty((2, 2))\n",
        "print(\"Empty Array:\\n\", empty_array)\n",
        "\n",
        "#Initialize an all-one array with size 4x2\n",
        "ones_array = np.ones((4, 2))\n",
        "print(\"\\nAll One Array:\\n\", ones_array)\n",
        "\n",
        "#Return a new array of given shape and type, filled with a specified fill value\n",
        "filled_array = np.full((3, 3), 7)  # 3x3 array filled with value 7\n",
        "print(\"\\nArray filled with a specific value:\\n\", filled_array)\n",
        "\n",
        "#Return a new array of zeros with same shape and type as a given array\n",
        "given_array = np.array([[1, 2, 3], [4, 5, 6]])  # Example given array\n",
        "zeros_like_array = np.zeros_like(given_array)\n",
        "print(\"\\nZeros Array with Same Shape as Given Array:\\n\", zeros_like_array)\n",
        "\n",
        "#Return a new array of ones with same shape and type as a given array\n",
        "ones_like_array = np.ones_like(given_array)\n",
        "print(\"\\nOnes Array with Same Shape as Given Array:\\n\", ones_like_array)\n",
        "\n",
        "#Convert an existing list to a NumPy array\n",
        "new_list = [1, 2, 3, 4]\n",
        "numpy_array = np.array(new_list)\n",
        "print(\"\\nConverted NumPy Array:\\n\", numpy_array)"
      ],
      "metadata": {
        "colab": {
          "base_uri": "https://localhost:8080/"
        },
        "id": "_qAY-lSYDE8k",
        "outputId": "fbfe63e5-c23a-4484-a34a-6714219866c4"
      },
      "execution_count": null,
      "outputs": [
        {
          "output_type": "stream",
          "name": "stdout",
          "text": [
            "Empty Array:\n",
            " [[2.91092046e-316 0.00000000e+000]\n",
            " [1.95334101e+184 6.53579294e-310]]\n",
            "\n",
            "All One Array:\n",
            " [[1. 1.]\n",
            " [1. 1.]\n",
            " [1. 1.]\n",
            " [1. 1.]]\n",
            "\n",
            "Array filled with a specific value:\n",
            " [[7 7 7]\n",
            " [7 7 7]\n",
            " [7 7 7]]\n",
            "\n",
            "Zeros Array with Same Shape as Given Array:\n",
            " [[0 0 0]\n",
            " [0 0 0]]\n",
            "\n",
            "Ones Array with Same Shape as Given Array:\n",
            " [[1 1 1]\n",
            " [1 1 1]]\n",
            "\n",
            "Converted NumPy Array:\n",
            " [1 2 3 4]\n"
          ]
        }
      ]
    },
    {
      "cell_type": "markdown",
      "source": [
        "Problem - 2: Array Manipulation: Numerical Ranges and Array indexing:"
      ],
      "metadata": {
        "id": "EDaU7HoiEI_W"
      }
    },
    {
      "cell_type": "code",
      "source": [
        "\n",
        "#Create an array with values ranging from 10 to 49\n",
        "arr1 = np.arange(10, 50)\n",
        "print(\"Array from 10 to 49:\\n\", arr1)\n",
        "\n",
        "#Create a 3x3 matrix with values ranging from 0 to 8\n",
        "arr2 = np.arange(9).reshape(3, 3)\n",
        "print(\"\\n3x3 Matrix with values from 0 to 8:\\n\", arr2)\n",
        "\n",
        "#Create a 3x3 identity matrix\n",
        "arr3 = np.eye(3)\n",
        "print(\"\\n3x3 Identity Matrix:\\n\", arr3)\n",
        "\n",
        "#Create a random array of size 30 and find the mean\n",
        "arr4 = np.random.random(30)  # Random values between 0 and 1\n",
        "mean_val = arr4.mean()\n",
        "print(\"\\nMean of Random 30-Element Array:\\n\", mean_val)\n",
        "\n",
        "#Create a 10x10 array with random values and find min & max\n",
        "arr5 = np.random.random((10, 10))\n",
        "min_val= arr5.min()\n",
        "max_val = arr5.max()\n",
        "print(\"\\nMin and Max in 10x10 Random Array:\\n\", min_val, max_val)\n",
        "\n",
        "#Create a zero array of size 10 and replace 5th element with 1\n",
        "arr6 = np.zeros(10)\n",
        "arr6[4] = 1  # 5th element (index 4) set to 1\n",
        "print(\"\\nZero Array with 5th Element as 1:\\n\", arr6)\n",
        "\n",
        "#Reverse an array arr = [1,2,0,0,4,0]\n",
        "arr7 = np.array([1, 2, 0, 0, 4, 0])[::-1]\n",
        "print(\"\\nReversed Array:\\n\", arr7)\n",
        "\n",
        "#Create a 2D array with 1 on border and 0 inside\n",
        "arr8 = np.ones((5, 5))  # Create an all-ones array\n",
        "arr8[1:-1, 1:-1] = 0  # Set inside elements to 0\n",
        "print(\"\\n2D Array with Border 1 and Inside 0:\\n\", arr8)\n",
        "\n",
        "#Create an 8x8 matrix and fill it with a checkerboard pattern\n",
        "arr9 = np.zeros((8, 8), dtype=int)\n",
        "arr9[1::2, ::2] = 1  # Fill alternate rows\n",
        "arr9[::2, 1::2] = 1  # Fill alternate columns\n",
        "print(\"\\n8x8 Checkerboard Pattern:\\n\", arr9)"
      ],
      "metadata": {
        "colab": {
          "base_uri": "https://localhost:8080/"
        },
        "id": "3cylsovLELU1",
        "outputId": "3450f8dd-f3d7-4255-cc40-d2c938e7066a"
      },
      "execution_count": null,
      "outputs": [
        {
          "output_type": "stream",
          "name": "stdout",
          "text": [
            "Array from 10 to 49:\n",
            " [10 11 12 13 14 15 16 17 18 19 20 21 22 23 24 25 26 27 28 29 30 31 32 33\n",
            " 34 35 36 37 38 39 40 41 42 43 44 45 46 47 48 49]\n",
            "\n",
            "3x3 Matrix with values from 0 to 8:\n",
            " [[0 1 2]\n",
            " [3 4 5]\n",
            " [6 7 8]]\n",
            "\n",
            "3x3 Identity Matrix:\n",
            " [[1. 0. 0.]\n",
            " [0. 1. 0.]\n",
            " [0. 0. 1.]]\n",
            "\n",
            "Mean of Random 30-Element Array:\n",
            " 0.4090953608051875\n",
            "\n",
            "Min and Max in 10x10 Random Array:\n",
            " 0.007933060262682035 0.994726496483534\n",
            "\n",
            "Zero Array with 5th Element as 1:\n",
            " [0. 0. 0. 0. 1. 0. 0. 0. 0. 0.]\n",
            "\n",
            "Reversed Array:\n",
            " [0 4 0 0 2 1]\n",
            "\n",
            "2D Array with Border 1 and Inside 0:\n",
            " [[1. 1. 1. 1. 1.]\n",
            " [1. 0. 0. 0. 1.]\n",
            " [1. 0. 0. 0. 1.]\n",
            " [1. 0. 0. 0. 1.]\n",
            " [1. 1. 1. 1. 1.]]\n",
            "\n",
            "8x8 Checkerboard Pattern:\n",
            " [[0 1 0 1 0 1 0 1]\n",
            " [1 0 1 0 1 0 1 0]\n",
            " [0 1 0 1 0 1 0 1]\n",
            " [1 0 1 0 1 0 1 0]\n",
            " [0 1 0 1 0 1 0 1]\n",
            " [1 0 1 0 1 0 1 0]\n",
            " [0 1 0 1 0 1 0 1]\n",
            " [1 0 1 0 1 0 1 0]]\n"
          ]
        }
      ]
    },
    {
      "cell_type": "markdown",
      "source": [
        "Problem - 3: Array Operations:"
      ],
      "metadata": {
        "id": "5NZJjUxAGf4z"
      }
    },
    {
      "cell_type": "code",
      "source": [
        "# Given arrays\n",
        "x = np.array([[1, 2], [3, 5]])\n",
        "y = np.array([[5, 6], [7, 8]])\n",
        "v = np.array([9, 10])\n",
        "w = np.array([11, 12])\n",
        "\n",
        "#Add the two arrays\n",
        "add_xy = x + y\n",
        "print(\"Addition of x and y:\\n\", add_xy)\n",
        "\n",
        "#Subtract the two arrays\n",
        "sub_xy = x - y\n",
        "print(\"\\nSubtraction of x and y:\\n\", sub_xy)\n",
        "\n",
        "#Multiply the array with an integer (choosing 3)\n",
        "mul_x = x * 3\n",
        "print(\"\\nMultiplication of x with 3:\\n\", mul_x)\n",
        "\n",
        "#Find the square of each element of x\n",
        "square_x = np.square(x)\n",
        "print(\"\\nSquare of each element in x:\\n\", square_x)\n",
        "\n",
        "#Find the dot product\n",
        "dot_vw = np.dot(v, w)  # Dot product of v and w\n",
        "dot_xv = np.dot(x, v)  # Dot product of x and v\n",
        "dot_xy = np.dot(x, y)  # Dot product of x and y\n",
        "\n",
        "print(\"\\nDot product of v and w:\", dot_vw)\n",
        "print(\"\\nDot product of x and v:\\n\", dot_xv)\n",
        "print(\"\\nDot product of x and y:\\n\", dot_xy)\n",
        "\n",
        "#Concatenate x and y along rows\n",
        "concat_xy_row = np.concatenate((x, y), axis=0)\n",
        "print(\"\\nConcatenation of x and y along rows:\\n\", concat_xy_row)\n",
        "\n",
        "#Concatenate v and w along columns\n",
        "concat_vw_col = np.column_stack((v, w))\n",
        "print(\"\\nConcatenation of v and w along columns:\\n\", concat_vw_col)\n",
        "\n",
        "#Concatenate x and v (Observe Error)\n",
        "try:\n",
        "    concat_xv = np.concatenate((x, v), axis=0)\n",
        "    print(\"\\nConcatenation of x and v:\\n\", concat_xv)\n",
        "except ValueError as e:\n",
        "    print(\"\\nError when concatenating x and v:\", e)"
      ],
      "metadata": {
        "colab": {
          "base_uri": "https://localhost:8080/"
        },
        "id": "LgWgXE30GiGV",
        "outputId": "6c154a6b-ce37-4e29-e123-0b3a21cbba75"
      },
      "execution_count": null,
      "outputs": [
        {
          "output_type": "stream",
          "name": "stdout",
          "text": [
            "Addition of x and y:\n",
            " [[ 6  8]\n",
            " [10 13]]\n",
            "\n",
            "Subtraction of x and y:\n",
            " [[-4 -4]\n",
            " [-4 -3]]\n",
            "\n",
            "Multiplication of x with 3:\n",
            " [[ 3  6]\n",
            " [ 9 15]]\n",
            "\n",
            "Square of each element in x:\n",
            " [[ 1  4]\n",
            " [ 9 25]]\n",
            "\n",
            "Dot product of v and w: 219\n",
            "\n",
            "Dot product of x and v:\n",
            " [29 77]\n",
            "\n",
            "Dot product of x and y:\n",
            " [[19 22]\n",
            " [50 58]]\n",
            "\n",
            "Concatenation of x and y along rows:\n",
            " [[1 2]\n",
            " [3 5]\n",
            " [5 6]\n",
            " [7 8]]\n",
            "\n",
            "Concatenation of v and w along columns:\n",
            " [[ 9 11]\n",
            " [10 12]]\n",
            "\n",
            "Error when concatenating x and v: all the input arrays must have same number of dimensions, but the array at index 0 has 2 dimension(s) and the array at index 1 has 1 dimension(s)\n"
          ]
        }
      ]
    },
    {
      "cell_type": "markdown",
      "source": [
        "Problem - 4: Matrix Operations:"
      ],
      "metadata": {
        "id": "DLTv0MugHRDx"
      }
    },
    {
      "cell_type": "markdown",
      "source": [
        "1.Prove A * A⁻¹ = I"
      ],
      "metadata": {
        "id": "z70pGfTEHsoW"
      }
    },
    {
      "cell_type": "code",
      "source": [
        "# Define matrices\n",
        "A = np.array([[3, 4], [7, 8]])\n",
        "# Compute inverse of A\n",
        "A_inv = np.linalg.inv(A)\n",
        "# Multiply A with its inverse\n",
        "I = np.dot(A, A_inv)\n",
        "print(\"A * A⁻¹ = Identity matrix\\n\", I)"
      ],
      "metadata": {
        "colab": {
          "base_uri": "https://localhost:8080/"
        },
        "id": "zm2zJZM3HUGH",
        "outputId": "b1f2a539-ff47-4b93-f7d9-3c4d2fbf2c20"
      },
      "execution_count": null,
      "outputs": [
        {
          "output_type": "stream",
          "name": "stdout",
          "text": [
            "A * A⁻¹ = Identity matrix\n",
            " [[1.00000000e+00 0.00000000e+00]\n",
            " [1.77635684e-15 1.00000000e+00]]\n"
          ]
        }
      ]
    },
    {
      "cell_type": "markdown",
      "source": [
        "2. Prove AB ≠ BA"
      ],
      "metadata": {
        "id": "hoVNFQYRIkmi"
      }
    },
    {
      "cell_type": "code",
      "source": [
        "# Define another matrix B\n",
        "B = np.array([[5, 3], [2, 1]])\n",
        "\n",
        "# Compute AB and BA\n",
        "AB = np.dot(A, B)\n",
        "BA = np.dot(B, A)\n",
        "\n",
        "print(\"AB:\\n\", AB)\n",
        "print(\"\\nBA:\\n\", BA)\n",
        "\n",
        "# Check if AB is equal to BA\n",
        "equal = np.array_equal(AB, BA)\n",
        "print(\"AB = BA :\", equal)"
      ],
      "metadata": {
        "colab": {
          "base_uri": "https://localhost:8080/"
        },
        "id": "_0-hbWICInlQ",
        "outputId": "f2222a45-bb30-4da2-f03f-be34e5feedfd"
      },
      "execution_count": null,
      "outputs": [
        {
          "output_type": "stream",
          "name": "stdout",
          "text": [
            "AB:\n",
            " [[23 13]\n",
            " [51 29]]\n",
            "\n",
            "BA:\n",
            " [[36 44]\n",
            " [13 16]]\n",
            "AB = BA : False\n"
          ]
        }
      ]
    },
    {
      "cell_type": "markdown",
      "source": [
        "3. Prove (AB)^T = B^T * A^T"
      ],
      "metadata": {
        "id": "cB3-kNEdI3I9"
      }
    },
    {
      "cell_type": "code",
      "source": [
        "# Compute (AB)^T\n",
        "AB_T = np.transpose(AB)\n",
        "\n",
        "# Compute B^T and A^T, then multiply\n",
        "BT = np.transpose(B)\n",
        "AT = np.transpose(A)\n",
        "BT_AT = np.dot(BT, AT)\n",
        "\n",
        "# Check if both are equal\n",
        "equal_transpose = np.array_equal(AB_T, BT_AT)\n",
        "\n",
        "print(\"\\n(AB)^T:\\n\", AB_T)\n",
        "print(\"\\nB^T * A^T:\\n\", BT_AT)\n",
        "print(\"(AB)^T = B^T * A^T:\", equal_transpose)"
      ],
      "metadata": {
        "colab": {
          "base_uri": "https://localhost:8080/"
        },
        "id": "VbpaarTlI9dO",
        "outputId": "63c23457-f776-4e5e-827d-91e2ef738a27"
      },
      "execution_count": null,
      "outputs": [
        {
          "output_type": "stream",
          "name": "stdout",
          "text": [
            "\n",
            "(AB)^T:\n",
            " [[23 51]\n",
            " [13 29]]\n",
            "\n",
            "B^T * A^T:\n",
            " [[23 51]\n",
            " [13 29]]\n",
            "(AB)^T = B^T * A^T: True\n"
          ]
        }
      ]
    },
    {
      "cell_type": "markdown",
      "source": [
        "• Solve the following system of Linear equation using Inverse Methods.\n",
        "2x−3y + z =−1\n",
        "x−y + 2z =−3\n",
        "3x + y−z = 9"
      ],
      "metadata": {
        "id": "f9wXBKEuJT5d"
      }
    },
    {
      "cell_type": "code",
      "source": [
        "# Define matrices\n",
        "A_matrix = np.array([[2, -3, 1], [1, -1, 2], [3, 1, -1]])\n",
        "B_matrix = np.array([-1, -3, 9])\n",
        "\n",
        "# Compute inverse of A\n",
        "A_inv_matrix = np.linalg.inv(A_matrix)\n",
        "\n",
        "# Solve for X\n",
        "X_solution = np.dot(A_inv_matrix, B_matrix)\n",
        "\n",
        "print(\"Solution for (x, y, z):\\n\", X_solution)"
      ],
      "metadata": {
        "colab": {
          "base_uri": "https://localhost:8080/"
        },
        "id": "ZXxWZWoQJUpB",
        "outputId": "8487ab55-25ef-4d6b-99b6-6807eef934ef"
      },
      "execution_count": null,
      "outputs": [
        {
          "output_type": "stream",
          "name": "stdout",
          "text": [
            "Solution for (x, y, z):\n",
            " [ 2.  1. -2.]\n"
          ]
        }
      ]
    },
    {
      "cell_type": "markdown",
      "source": [
        "solve the above equation using np.linalg.inv function."
      ],
      "metadata": {
        "id": "6fllDQsJJ0ge"
      }
    },
    {
      "cell_type": "code",
      "source": [
        "# Solve AX = B directly\n",
        "X_solve = np.linalg.solve(A_matrix, B_matrix)\n",
        "\n",
        "print(\"Solution using np.linalg.solve():\\n\", X_solve)"
      ],
      "metadata": {
        "colab": {
          "base_uri": "https://localhost:8080/"
        },
        "id": "56pi9jz1J1VL",
        "outputId": "359b65dd-2285-4167-d2ce-a013aed07874"
      },
      "execution_count": null,
      "outputs": [
        {
          "output_type": "stream",
          "name": "stdout",
          "text": [
            "Solution using np.linalg.solve():\n",
            " [ 2.  1. -2.]\n"
          ]
        }
      ]
    },
    {
      "cell_type": "markdown",
      "source": [
        "10.2 Experiment: How Fast is Numpy?"
      ],
      "metadata": {
        "id": "OF8OQEOnKAo_"
      }
    },
    {
      "cell_type": "markdown",
      "source": [
        "1. Element-wise Addition:"
      ],
      "metadata": {
        "id": "Z0cOr_nRKLLW"
      }
    },
    {
      "cell_type": "code",
      "source": [
        "import time"
      ],
      "metadata": {
        "id": "XI2RAk1TLoyR"
      },
      "execution_count": null,
      "outputs": []
    },
    {
      "cell_type": "code",
      "source": [
        "# Define size parameters\n",
        "size = 1_000_000  # 1 million elements\n",
        "matrix_size = 1000  # 1000x1000 matrix\n",
        "# Generate random data for lists and arrays\n",
        "list1 = [i for i in range(size)]\n",
        "list2 = [i for i in range(size)]\n",
        "array1 = np.arange(size)\n",
        "array2 = np.arange(size)\n",
        "# 1. Element-wise Addition\n",
        "# Using Python lists\n",
        "start_time = time.time()\n",
        "list_addition = [list1[i] + list2[i] for i in range(size)]\n",
        "list_add_time = time.time() - start_time\n",
        "# Using NumPy arrays\n",
        "start_time = time.time()\n",
        "array_addition = array1 + array2\n",
        "array_add_time = time.time() - start_time\n",
        "print(f\"Element-wise Addition - Python List Time: {list_add_time:.6f} sec\")\n",
        "print(f\"Element-wise Addition - NumPy Array Time: {array_add_time:.6f} sec\\n\")"
      ],
      "metadata": {
        "colab": {
          "base_uri": "https://localhost:8080/"
        },
        "id": "I1xXHBjKKOZ9",
        "outputId": "469d64af-7a23-4aa9-ee52-375cd11af1ab"
      },
      "execution_count": null,
      "outputs": [
        {
          "output_type": "stream",
          "name": "stdout",
          "text": [
            "Element-wise Addition - Python List Time: 0.086572 sec\n",
            "Element-wise Addition - NumPy Array Time: 0.005435 sec\n",
            "\n"
          ]
        }
      ]
    },
    {
      "cell_type": "markdown",
      "source": [
        "2. Element-wise Multiplication"
      ],
      "metadata": {
        "id": "9iabFUDiLsdL"
      }
    },
    {
      "cell_type": "code",
      "source": [
        "# Using Python lists\n",
        "start_time = time.time()\n",
        "list_multiplication = [list1[i] * list2[i] for i in range(size)]\n",
        "list_mult_time = time.time() - start_time\n",
        "# Using NumPy arrays\n",
        "start_time = time.time()\n",
        "array_multiplication = array1 * array2\n",
        "array_mult_time = time.time() - start_time\n",
        "print(f\"Element-wise Multiplication - Python List Time: {list_mult_time:.6f} sec\")\n",
        "print(f\"Element-wise Multiplication - NumPy Array Time: {array_mult_time:.6f} sec\\n\")"
      ],
      "metadata": {
        "colab": {
          "base_uri": "https://localhost:8080/"
        },
        "id": "oKbmI8SCLv3g",
        "outputId": "574dd254-559d-4a6c-dfb9-31dbefc2f1e6"
      },
      "execution_count": null,
      "outputs": [
        {
          "output_type": "stream",
          "name": "stdout",
          "text": [
            "Element-wise Multiplication - Python List Time: 0.086338 sec\n",
            "Element-wise Multiplication - NumPy Array Time: 0.004225 sec\n",
            "\n"
          ]
        }
      ]
    },
    {
      "cell_type": "markdown",
      "source": [
        "3. Dot Product"
      ],
      "metadata": {
        "id": "iJabFcA5L2OR"
      }
    },
    {
      "cell_type": "code",
      "source": [
        "# Using Python lists\n",
        "start_time = time.time()\n",
        "dot_product_list = sum(list1[i] * list2[i] for i in range(size))\n",
        "list_dot_time = time.time() - start_time\n",
        "# Using NumPy arrays\n",
        "start_time = time.time()\n",
        "dot_product_array = np.dot(array1, array2)\n",
        "array_dot_time = time.time() - start_time\n",
        "print(f\"Dot Product - Python List Time: {list_dot_time:.6f} sec\")\n",
        "print(f\"Dot Product - NumPy Array Time: {array_dot_time:.6f} sec\\n\")"
      ],
      "metadata": {
        "colab": {
          "base_uri": "https://localhost:8080/"
        },
        "id": "8sriXsxKL4hc",
        "outputId": "60535c7b-9cb7-4746-8b34-3cc2d83ee55b"
      },
      "execution_count": null,
      "outputs": [
        {
          "output_type": "stream",
          "name": "stdout",
          "text": [
            "Dot Product - Python List Time: 0.101308 sec\n",
            "Dot Product - NumPy Array Time: 0.001970 sec\n",
            "\n"
          ]
        }
      ]
    },
    {
      "cell_type": "markdown",
      "source": [
        "4. Matrix Multiplication"
      ],
      "metadata": {
        "id": "EKH-69jML-dO"
      }
    },
    {
      "cell_type": "code",
      "source": [
        "# Generate random 1000x1000 matrices for NumPy\n",
        "array_matrix1 = np.arange(matrix_size**2).reshape(matrix_size, matrix_size)\n",
        "array_matrix2 = np.arange(matrix_size**2).reshape(matrix_size, matrix_size)\n",
        "# Using NumPy arrays\n",
        "start_time = time.time()\n",
        "array_matrix_result = np.dot(array_matrix1, array_matrix2)\n",
        "array_matrix_time = time.time() - start_time\n",
        "print(f\"Matrix Multiplication (1000x1000) - NumPy Array Time: {array_matrix_time:.6f} sec\")\n",
        "print(\"Matrix Multiplication using Python Lists skipped due to slow execution.\")"
      ],
      "metadata": {
        "colab": {
          "base_uri": "https://localhost:8080/"
        },
        "id": "iGzH1jvhL_J3",
        "outputId": "73bb90b8-6751-4579-be76-f7ae9fea2c8c"
      },
      "execution_count": null,
      "outputs": [
        {
          "output_type": "stream",
          "name": "stdout",
          "text": [
            "Matrix Multiplication (1000x1000) - NumPy Array Time: 1.705875 sec\n",
            "Matrix Multiplication using Python Lists skipped due to slow execution.\n"
          ]
        }
      ]
    },
    {
      "cell_type": "markdown",
      "source": [
        "NumPy is much faster than Python lists in all operations, especially for element-wise calculations and dot products, thanks to its optimized vectorized operations. The biggest difference is in matrix multiplication—NumPy handles it quickly, while Python lists take a lot more time due to inefficient looping. Overall, NumPy is the better choice for handling large datasets and numerical tasks efficiently."
      ],
      "metadata": {
        "id": "53g36YUiMNfR"
      }
    }
  ]
}